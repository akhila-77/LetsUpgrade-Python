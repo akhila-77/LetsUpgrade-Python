{
  "nbformat": 4,
  "nbformat_minor": 0,
  "metadata": {
    "kernelspec": {
      "display_name": "Python 3",
      "language": "python",
      "name": "python3"
    },
    "language_info": {
      "codemirror_mode": {
        "name": "ipython",
        "version": 3
      },
      "file_extension": ".py",
      "mimetype": "text/x-python",
      "name": "python",
      "nbconvert_exporter": "python",
      "pygments_lexer": "ipython3",
      "version": "3.7.4"
    },
    "colab": {
      "name": "Cryptography_project.ipynb",
      "provenance": [],
      "collapsed_sections": []
    }
  },
  "cells": [
    {
      "cell_type": "markdown",
      "metadata": {
        "id": "FqkpNcW99M4l"
      },
      "source": [
        "# Cryptography"
      ]
    },
    {
      "cell_type": "markdown",
      "metadata": {
        "id": "Wil2ESOQBiDY"
      },
      "source": [
        "### **Cryptography means converting a simple plain text into something which is not understandable easy until someone has the KEY or Code**"
      ]
    },
    {
      "cell_type": "markdown",
      "metadata": {
        "id": "Z-BY895wBwMI"
      },
      "source": [
        "### **Cipher Text -> A text which is the result of Encryption is knows as Cipher Text**"
      ]
    },
    {
      "cell_type": "markdown",
      "metadata": {
        "id": "GP7PdqFFB8ti"
      },
      "source": [
        "### **Encryption -> Converting a message to Secret message is known as Encrytpion**"
      ]
    },
    {
      "cell_type": "markdown",
      "metadata": {
        "id": "TwhMN86zCEw8"
      },
      "source": [
        "### **Decryption -> Converting back the Secret messege to Normal Message**"
      ]
    },
    {
      "cell_type": "markdown",
      "metadata": {
        "id": "UihPfcrV9M41"
      },
      "source": [
        "# *### Write a Python Program which converts, Any Given Text to Chiper Text and when every the key is avalible it should convert it back to the Normal Message ###*"
      ]
    },
    {
      "cell_type": "markdown",
      "metadata": {
        "id": "yzLlcMzd9M42"
      },
      "source": [
        "Step 1 - > Which Library to use to convert a Normal text to Chiper Text "
      ]
    },
    {
      "cell_type": "markdown",
      "metadata": {
        "id": "eu8dvINV9M42"
      },
      "source": [
        "Step 2 -> Take Input from the User and convert it to Chiper Text"
      ]
    },
    {
      "cell_type": "markdown",
      "metadata": {
        "id": "JbZhlMbM9M42"
      },
      "source": [
        "Step 3 -> Display back the Chiper Text to user "
      ]
    },
    {
      "cell_type": "markdown",
      "metadata": {
        "id": "5TFNLo3U9M43"
      },
      "source": [
        "Step 4 -> Load the Key and If the Key is the same, based upon the Input provided, convert it to normal Text "
      ]
    },
    {
      "cell_type": "code",
      "metadata": {
        "colab": {
          "base_uri": "https://localhost:8080/"
        },
        "id": "Ut-VYpn79M43",
        "outputId": "3981344d-79eb-4097-e906-05c16e6bc9d9"
      },
      "source": [
        "!pip install cryptography"
      ],
      "execution_count": 5,
      "outputs": [
        {
          "output_type": "stream",
          "text": [
            "Requirement already satisfied: cryptography in /usr/local/lib/python3.6/dist-packages (3.3.1)\n",
            "Requirement already satisfied: six>=1.4.1 in /usr/local/lib/python3.6/dist-packages (from cryptography) (1.15.0)\n",
            "Requirement already satisfied: cffi>=1.12 in /usr/local/lib/python3.6/dist-packages (from cryptography) (1.14.4)\n",
            "Requirement already satisfied: pycparser in /usr/local/lib/python3.6/dist-packages (from cffi>=1.12->cryptography) (2.20)\n"
          ],
          "name": "stdout"
        }
      ]
    },
    {
      "cell_type": "code",
      "metadata": {
        "id": "uzf_UOE69M45"
      },
      "source": [
        "from cryptography.fernet import Fernet"
      ],
      "execution_count": 6,
      "outputs": []
    },
    {
      "cell_type": "code",
      "metadata": {
        "id": "KlRjbRhO9M45"
      },
      "source": [
        "def genratePassKey():\n",
        "    key = Fernet.generate_key()\n",
        "    abc = open(\"PasswordKey.key\",'wb')\n",
        "    abc.write(key)\n",
        "    abc.close()"
      ],
      "execution_count": 7,
      "outputs": []
    },
    {
      "cell_type": "code",
      "metadata": {
        "id": "FUo6mgnc9M45"
      },
      "source": [
        "genratePassKey()"
      ],
      "execution_count": 8,
      "outputs": []
    },
    {
      "cell_type": "code",
      "metadata": {
        "id": "n73aVpgq9M46"
      },
      "source": [
        "def getMyKey():\n",
        "    abc = open(\"PasswordKey.key\",'rb')\n",
        "    return abc.read()"
      ],
      "execution_count": 9,
      "outputs": []
    },
    {
      "cell_type": "code",
      "metadata": {
        "colab": {
          "base_uri": "https://localhost:8080/"
        },
        "id": "_5vNUETE9M46",
        "outputId": "5a005018-9661-4ff4-c8bf-8d18c75ab43b"
      },
      "source": [
        "getMyKey()"
      ],
      "execution_count": 10,
      "outputs": [
        {
          "output_type": "execute_result",
          "data": {
            "text/plain": [
              "b'Bz3eckCgMSjjTaCCe3leGQ9P9ZAXFR_dKLNx4_q_jSw='"
            ]
          },
          "metadata": {
            "tags": []
          },
          "execution_count": 10
        }
      ]
    },
    {
      "cell_type": "code",
      "metadata": {
        "id": "v2pye1NS9M47"
      },
      "source": [
        "def getContentFromUser():\n",
        "   return bytes(input(\"Enter key to ENCRYPT : \"),'utf-8')"
      ],
      "execution_count": 11,
      "outputs": []
    },
    {
      "cell_type": "code",
      "metadata": {
        "colab": {
          "base_uri": "https://localhost:8080/"
        },
        "id": "0W7iicgC9M47",
        "outputId": "ac31885a-69f9-4d56-a33c-6ea9ab6da370"
      },
      "source": [
        "userinp = getContentFromUser()"
      ],
      "execution_count": 12,
      "outputs": [
        {
          "output_type": "stream",
          "text": [
            "Enter key to ENCRYPT : cryptography message\n"
          ],
          "name": "stdout"
        }
      ]
    },
    {
      "cell_type": "code",
      "metadata": {
        "id": "9pcY3Z8_9M48"
      },
      "source": [
        "def encryptMessage(message_normal):\n",
        "    key = getMyKey()\n",
        "    k = Fernet(key)\n",
        "    encrypted_Message = k.encrypt(message_normal)\n",
        "    return encrypted_Message"
      ],
      "execution_count": 13,
      "outputs": []
    },
    {
      "cell_type": "code",
      "metadata": {
        "id": "m38VCJVj9M48"
      },
      "source": [
        "encryptedmsg = encryptMessage(bytes(userinp))"
      ],
      "execution_count": 14,
      "outputs": []
    },
    {
      "cell_type": "code",
      "metadata": {
        "id": "PlsZd0Ay9M49"
      },
      "source": [
        "def decryptMessage(message_secret):\n",
        "    key = getMyKey()\n",
        "    k = Fernet(key)\n",
        "    decrypted_Message = k.decrypt(message_secret)\n",
        "    return decrypted_Message"
      ],
      "execution_count": 15,
      "outputs": []
    },
    {
      "cell_type": "code",
      "metadata": {
        "colab": {
          "base_uri": "https://localhost:8080/",
          "height": 35
        },
        "id": "4Xnk997a9M49",
        "outputId": "6dba0f30-5194-4647-d117-fc03e51dbe1e"
      },
      "source": [
        "decryptMessage(encryptedmsg).decode('utf-8')"
      ],
      "execution_count": 16,
      "outputs": [
        {
          "output_type": "execute_result",
          "data": {
            "application/vnd.google.colaboratory.intrinsic+json": {
              "type": "string"
            },
            "text/plain": [
              "'cryptography message'"
            ]
          },
          "metadata": {
            "tags": []
          },
          "execution_count": 16
        }
      ]
    },
    {
      "cell_type": "code",
      "metadata": {
        "id": "VswtmMvm9M4-"
      },
      "source": [
        ""
      ],
      "execution_count": 16,
      "outputs": []
    }
  ]
}