{
  "nbformat": 4,
  "nbformat_minor": 0,
  "metadata": {
    "colab": {
      "name": "Email_Sending_Project.ipynb",
      "provenance": [],
      "collapsed_sections": []
    },
    "kernelspec": {
      "name": "python3",
      "display_name": "Python 3"
    }
  },
  "cells": [
    {
      "cell_type": "markdown",
      "metadata": {
        "id": "GytrFXnfNenD"
      },
      "source": [
        "# **Python Project to send EMAILS to Friends and Family**"
      ]
    },
    {
      "cell_type": "markdown",
      "metadata": {
        "id": "WILpFjoVMDpS"
      },
      "source": [
        "### **SOURCE** - https://pypi.org/project/emails/"
      ]
    },
    {
      "cell_type": "markdown",
      "metadata": {
        "id": "jUSlNgg72rbM"
      },
      "source": [
        "* What are things which are required for sending emails ? <br>\r\n",
        " **Answer** - We require SMTP Server to send a EMAIL "
      ]
    },
    {
      "cell_type": "markdown",
      "metadata": {
        "id": "Kk-209LN2rd_"
      },
      "source": [
        "* What we require before we do this project?<br>\r\n",
        " **Answer** - We require ONE LIBRARY -> i.e emails"
      ]
    },
    {
      "cell_type": "code",
      "metadata": {
        "colab": {
          "base_uri": "https://localhost:8080/"
        },
        "id": "RD9r0Cl125KJ",
        "outputId": "d2348393-56bb-49b6-dc92-62893b3ad5eb"
      },
      "source": [
        "!pip install emails"
      ],
      "execution_count": 1,
      "outputs": [
        {
          "output_type": "stream",
          "text": [
            "Requirement already satisfied: emails in /usr/local/lib/python3.6/dist-packages (0.6)\n",
            "Requirement already satisfied: requests in /usr/local/lib/python3.6/dist-packages (from emails) (2.23.0)\n",
            "Requirement already satisfied: cssutils in /usr/local/lib/python3.6/dist-packages (from emails) (1.0.2)\n",
            "Requirement already satisfied: premailer in /usr/local/lib/python3.6/dist-packages (from emails) (3.7.0)\n",
            "Requirement already satisfied: chardet in /usr/local/lib/python3.6/dist-packages (from emails) (3.0.4)\n",
            "Requirement already satisfied: python-dateutil in /usr/local/lib/python3.6/dist-packages (from emails) (2.8.1)\n",
            "Requirement already satisfied: lxml in /usr/local/lib/python3.6/dist-packages (from emails) (4.2.6)\n",
            "Requirement already satisfied: certifi>=2017.4.17 in /usr/local/lib/python3.6/dist-packages (from requests->emails) (2020.12.5)\n",
            "Requirement already satisfied: idna<3,>=2.5 in /usr/local/lib/python3.6/dist-packages (from requests->emails) (2.10)\n",
            "Requirement already satisfied: urllib3!=1.25.0,!=1.25.1,<1.26,>=1.21.1 in /usr/local/lib/python3.6/dist-packages (from requests->emails) (1.24.3)\n",
            "Requirement already satisfied: cssselect in /usr/local/lib/python3.6/dist-packages (from premailer->emails) (1.1.0)\n",
            "Requirement already satisfied: cachetools in /usr/local/lib/python3.6/dist-packages (from premailer->emails) (4.1.1)\n",
            "Requirement already satisfied: six>=1.5 in /usr/local/lib/python3.6/dist-packages (from python-dateutil->emails) (1.15.0)\n"
          ],
          "name": "stdout"
        }
      ]
    },
    {
      "cell_type": "code",
      "metadata": {
        "id": "rKEi8mAt27Lz"
      },
      "source": [
        "import emails"
      ],
      "execution_count": 2,
      "outputs": []
    },
    {
      "cell_type": "code",
      "metadata": {
        "id": "SnMpokc-5ktO"
      },
      "source": [
        "def sendMail(email,name):\r\n",
        "\r\n",
        "        html_text = '''<p style=\"text-align: center;\"><span style=\"font-family: Verdana, Geneva, sans-serif; color: rgb(251, 160, 38); \r\n",
        "                        text-shadow: rgb(136, 136, 136) 10px 10px 5px;\">Hi '''+name+\" ,\"+'''</span></p>\r\n",
        "                        <p style=\"text-align: center;\"><span style=\"text-shadow: 10px 10px 5px rgba(136, 136, 136, 1);\">\r\n",
        "                        <span style=\"font-family: Verdana, Geneva, sans-serif;\">\r\n",
        "                        <span style=\"color: rgb(84, 172, 210);\">I am prabhu kalyan.</span></span></span></p>\r\n",
        "                        <p style=\"text-align: center;\"><span style=\"text-shadow: 10px 10px 5px rgba(136, 136, 136, 1);\">\r\n",
        "                        <span style=\"font-family: Verdana, Geneva, sans-serif;\">\r\n",
        "                                    <font color=\"#9365b8\" face=\"Lucida Console, Monaco, monospace\">\r\n",
        "                                    You received this email, because I&nbsp;was doing a project in python , which sends emails to friends &amp;\r\n",
        "                                     family, and probably you are one of them.</font>\r\n",
        "                                </span></span></p>\r\n",
        "                        <p style=\"text-align: center;\"><span style=\"text-shadow: 10px 10px 5px rgba(136, 136, 136, 1);\">\r\n",
        "                        <span style=\"font-family: Verdana, Geneva, sans-serif;\"><span style=\"color: rgb(97, 189, 109);\">\r\n",
        "                        Thanks a lot for your time.</span></span></span></p>\r\n",
        "                        <p style=\"text-align: center;\"><span style=\"font-family: Verdana, Geneva, sans-serif; color: rgb(235, 107, 86);\r\n",
        "                         text-shadow: rgb(136, 136, 136) 10px 10px 5px;\">CHEERS :P</span></p>'''\r\n",
        "\r\n",
        "        sub = \"Hey \"+name+\", you have EMAIL from Prabhu :P\"\r\n",
        "        message = emails.html(html=html_text,\r\n",
        "                          subject=sub,\r\n",
        "                          mail_from=('Prabhu Kalyan', 'noreply@gmail.com'))\r\n",
        "        \r\n",
        "        python_mail = message.send(to=email,\r\n",
        "                        smtp={'host': 'smtp.gmail.com', \r\n",
        "                              'timeout': 5,\r\n",
        "                              'port':587,\r\n",
        "                              'user':'learnerprabhu@gmail.com',\r\n",
        "                              'password':'prabhulearner123',\r\n",
        "                              'tls':True})\r\n",
        "        return python_mail.status_code"
      ],
      "execution_count": 3,
      "outputs": []
    },
    {
      "cell_type": "code",
      "metadata": {
        "colab": {
          "base_uri": "https://localhost:8080/"
        },
        "id": "VUJh2zZe6SjI",
        "outputId": "9ad9a27b-3eb5-461c-cbbf-b5e9d2289307"
      },
      "source": [
        "sendMail(\"learnerprabhu@gmail.com\",\"Prabhu\")"
      ],
      "execution_count": 4,
      "outputs": [
        {
          "output_type": "execute_result",
          "data": {
            "text/plain": [
              "250"
            ]
          },
          "metadata": {
            "tags": []
          },
          "execution_count": 4
        }
      ]
    },
    {
      "cell_type": "code",
      "metadata": {
        "id": "tV5-FVGzBU7c"
      },
      "source": [
        ""
      ],
      "execution_count": 4,
      "outputs": []
    }
  ]
}