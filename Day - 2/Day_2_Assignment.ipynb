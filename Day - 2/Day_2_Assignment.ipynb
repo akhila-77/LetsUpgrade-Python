{
  "nbformat": 4,
  "nbformat_minor": 0,
  "metadata": {
    "colab": {
      "name": "Day-2 Assignment.ipynb",
      "provenance": [],
      "collapsed_sections": []
    },
    "kernelspec": {
      "name": "python3",
      "display_name": "Python 3"
    }
  },
  "cells": [
    {
      "cell_type": "markdown",
      "metadata": {
        "id": "6KuHewE9pPgI"
      },
      "source": [
        "# **Question-1**"
      ]
    },
    {
      "cell_type": "markdown",
      "metadata": {
        "id": "14rYJIgZp-Ye"
      },
      "source": [
        "## *5 different functions of the String in python :*"
      ]
    },
    {
      "cell_type": "code",
      "metadata": {
        "id": "OhE6ZfNsnteJ"
      },
      "source": [
        "s = \"LetsUpgrade\""
      ],
      "execution_count": 1,
      "outputs": []
    },
    {
      "cell_type": "code",
      "metadata": {
        "colab": {
          "base_uri": "https://localhost:8080/"
        },
        "id": "4gyQ2x1yqOa9",
        "outputId": "b484a2eb-071f-46ef-f9a2-ae760823741e"
      },
      "source": [
        "s.index(\"U\")"
      ],
      "execution_count": 2,
      "outputs": [
        {
          "output_type": "execute_result",
          "data": {
            "text/plain": [
              "4"
            ]
          },
          "metadata": {
            "tags": []
          },
          "execution_count": 2
        }
      ]
    },
    {
      "cell_type": "code",
      "metadata": {
        "colab": {
          "base_uri": "https://localhost:8080/"
        },
        "id": "hBaz1u7DqWYA",
        "outputId": "c34dcbdb-9d42-4074-c313-1a2d64f71eb5"
      },
      "source": [
        "s.split()"
      ],
      "execution_count": 3,
      "outputs": [
        {
          "output_type": "execute_result",
          "data": {
            "text/plain": [
              "['LetsUpgrade']"
            ]
          },
          "metadata": {
            "tags": []
          },
          "execution_count": 3
        }
      ]
    },
    {
      "cell_type": "code",
      "metadata": {
        "colab": {
          "base_uri": "https://localhost:8080/"
        },
        "id": "u4Ib7vUpqkWk",
        "outputId": "fe910cce-695a-4ce7-a8fd-82fe4d42d5f8"
      },
      "source": [
        "s.split(\"U\")"
      ],
      "execution_count": 4,
      "outputs": [
        {
          "output_type": "execute_result",
          "data": {
            "text/plain": [
              "['Lets', 'pgrade']"
            ]
          },
          "metadata": {
            "tags": []
          },
          "execution_count": 4
        }
      ]
    },
    {
      "cell_type": "code",
      "metadata": {
        "colab": {
          "base_uri": "https://localhost:8080/",
          "height": 36
        },
        "id": "4ZfooRMvqnwy",
        "outputId": "e0781133-e17b-4cb7-ddb8-55440fd1fb9e"
      },
      "source": [
        "s.replace(\"s\",\"'s\")"
      ],
      "execution_count": 5,
      "outputs": [
        {
          "output_type": "execute_result",
          "data": {
            "application/vnd.google.colaboratory.intrinsic+json": {
              "type": "string"
            },
            "text/plain": [
              "\"Let'sUpgrade\""
            ]
          },
          "metadata": {
            "tags": []
          },
          "execution_count": 5
        }
      ]
    },
    {
      "cell_type": "code",
      "metadata": {
        "colab": {
          "base_uri": "https://localhost:8080/"
        },
        "id": "2PytF4aeqzNn",
        "outputId": "7250e449-ea7f-48a2-bffa-b7b1450b0ea2"
      },
      "source": [
        "s.find(\"s\")"
      ],
      "execution_count": 6,
      "outputs": [
        {
          "output_type": "execute_result",
          "data": {
            "text/plain": [
              "3"
            ]
          },
          "metadata": {
            "tags": []
          },
          "execution_count": 6
        }
      ]
    },
    {
      "cell_type": "code",
      "metadata": {
        "colab": {
          "base_uri": "https://localhost:8080/",
          "height": 36
        },
        "id": "loIIzTOmq3vE",
        "outputId": "8fc932ea-9365-41c1-8a80-62b5b4b2d1a2"
      },
      "source": [
        "s.capitalize()"
      ],
      "execution_count": 7,
      "outputs": [
        {
          "output_type": "execute_result",
          "data": {
            "application/vnd.google.colaboratory.intrinsic+json": {
              "type": "string"
            },
            "text/plain": [
              "'Letsupgrade'"
            ]
          },
          "metadata": {
            "tags": []
          },
          "execution_count": 7
        }
      ]
    },
    {
      "cell_type": "code",
      "metadata": {
        "colab": {
          "base_uri": "https://localhost:8080/",
          "height": 36
        },
        "id": "KEINoLjEq67w",
        "outputId": "2fdd66db-d3ca-4422-bb28-4b9c2d58bbd6"
      },
      "source": [
        "s.upper()"
      ],
      "execution_count": 8,
      "outputs": [
        {
          "output_type": "execute_result",
          "data": {
            "application/vnd.google.colaboratory.intrinsic+json": {
              "type": "string"
            },
            "text/plain": [
              "'LETSUPGRADE'"
            ]
          },
          "metadata": {
            "tags": []
          },
          "execution_count": 8
        }
      ]
    },
    {
      "cell_type": "code",
      "metadata": {
        "colab": {
          "base_uri": "https://localhost:8080/",
          "height": 36
        },
        "id": "qiA9dnwirCLM",
        "outputId": "65dbc7a4-f326-40fd-c732-75374133e36b"
      },
      "source": [
        "s.lower()"
      ],
      "execution_count": 9,
      "outputs": [
        {
          "output_type": "execute_result",
          "data": {
            "application/vnd.google.colaboratory.intrinsic+json": {
              "type": "string"
            },
            "text/plain": [
              "'letsupgrade'"
            ]
          },
          "metadata": {
            "tags": []
          },
          "execution_count": 9
        }
      ]
    },
    {
      "cell_type": "code",
      "metadata": {
        "colab": {
          "base_uri": "https://localhost:8080/"
        },
        "id": "m3DayXmLrDnl",
        "outputId": "cfd19d98-05f6-406f-fcd9-a7dbc961b175"
      },
      "source": [
        "s.isalpha()"
      ],
      "execution_count": 10,
      "outputs": [
        {
          "output_type": "execute_result",
          "data": {
            "text/plain": [
              "True"
            ]
          },
          "metadata": {
            "tags": []
          },
          "execution_count": 10
        }
      ]
    },
    {
      "cell_type": "code",
      "metadata": {
        "colab": {
          "base_uri": "https://localhost:8080/"
        },
        "id": "kAEBXyKgrF-w",
        "outputId": "ca106411-c2f2-4cca-e375-c05c5eaeeadc"
      },
      "source": [
        "s.isnumeric()"
      ],
      "execution_count": 11,
      "outputs": [
        {
          "output_type": "execute_result",
          "data": {
            "text/plain": [
              "False"
            ]
          },
          "metadata": {
            "tags": []
          },
          "execution_count": 11
        }
      ]
    },
    {
      "cell_type": "code",
      "metadata": {
        "id": "jCsNYPrzrKo8"
      },
      "source": [
        ""
      ],
      "execution_count": 11,
      "outputs": []
    },
    {
      "cell_type": "markdown",
      "metadata": {
        "id": "INwKxD1orbtw"
      },
      "source": [
        "# **Question-2**"
      ]
    },
    {
      "cell_type": "markdown",
      "metadata": {
        "id": "S6iXM32criaT"
      },
      "source": [
        "## *5 different functions of the List object in python :*"
      ]
    },
    {
      "cell_type": "code",
      "metadata": {
        "id": "C72MNY1srd8B"
      },
      "source": [
        "l = [\"Hey\",\"LetsUpgraders\",\",\",\"WhatsUp\",\"???\"]"
      ],
      "execution_count": 12,
      "outputs": []
    },
    {
      "cell_type": "code",
      "metadata": {
        "colab": {
          "base_uri": "https://localhost:8080/"
        },
        "id": "y9mHNVz_rw_j",
        "outputId": "0c6d6a12-2326-447b-c9b0-43ff0dba3cc6"
      },
      "source": [
        "l"
      ],
      "execution_count": 13,
      "outputs": [
        {
          "output_type": "execute_result",
          "data": {
            "text/plain": [
              "['Hey', 'LetsUpgraders', ',', 'WhatsUp', '???']"
            ]
          },
          "metadata": {
            "tags": []
          },
          "execution_count": 13
        }
      ]
    },
    {
      "cell_type": "code",
      "metadata": {
        "id": "AN1BwQCorxtK"
      },
      "source": [
        "l.append(\"Welcome to Python course\")"
      ],
      "execution_count": 14,
      "outputs": []
    },
    {
      "cell_type": "code",
      "metadata": {
        "colab": {
          "base_uri": "https://localhost:8080/"
        },
        "id": "yD71ki-nr6dw",
        "outputId": "3d1eebd0-540c-45b7-a0a5-b4f4d0a5cbb4"
      },
      "source": [
        "l"
      ],
      "execution_count": 15,
      "outputs": [
        {
          "output_type": "execute_result",
          "data": {
            "text/plain": [
              "['Hey', 'LetsUpgraders', ',', 'WhatsUp', '???', 'Welcome to Python course']"
            ]
          },
          "metadata": {
            "tags": []
          },
          "execution_count": 15
        }
      ]
    },
    {
      "cell_type": "code",
      "metadata": {
        "colab": {
          "base_uri": "https://localhost:8080/"
        },
        "id": "RXv2ajkMr7oP",
        "outputId": "92fd8d4e-2a2f-4c6d-dda1-bbfbf2d30ac5"
      },
      "source": [
        "l.copy()"
      ],
      "execution_count": 16,
      "outputs": [
        {
          "output_type": "execute_result",
          "data": {
            "text/plain": [
              "['Hey', 'LetsUpgraders', ',', 'WhatsUp', '???', 'Welcome to Python course']"
            ]
          },
          "metadata": {
            "tags": []
          },
          "execution_count": 16
        }
      ]
    },
    {
      "cell_type": "code",
      "metadata": {
        "colab": {
          "base_uri": "https://localhost:8080/"
        },
        "id": "13ZvLBl5r_vX",
        "outputId": "e1d37686-e135-4a2f-b0ba-89edae39dce1"
      },
      "source": [
        "l.count(\"a\")"
      ],
      "execution_count": 17,
      "outputs": [
        {
          "output_type": "execute_result",
          "data": {
            "text/plain": [
              "0"
            ]
          },
          "metadata": {
            "tags": []
          },
          "execution_count": 17
        }
      ]
    },
    {
      "cell_type": "code",
      "metadata": {
        "colab": {
          "base_uri": "https://localhost:8080/"
        },
        "id": "IW6Sbig5sD9o",
        "outputId": "d661eddf-ec8f-461d-d185-cae68bca243a"
      },
      "source": [
        "l.index(\"???\")"
      ],
      "execution_count": 18,
      "outputs": [
        {
          "output_type": "execute_result",
          "data": {
            "text/plain": [
              "4"
            ]
          },
          "metadata": {
            "tags": []
          },
          "execution_count": 18
        }
      ]
    },
    {
      "cell_type": "code",
      "metadata": {
        "id": "VRzhi9s2sJ80"
      },
      "source": [
        "l.extend([\"How\",\"are\",\"you\",\"all??\"])"
      ],
      "execution_count": 19,
      "outputs": []
    },
    {
      "cell_type": "code",
      "metadata": {
        "colab": {
          "base_uri": "https://localhost:8080/"
        },
        "id": "CXaNJfl4sWIi",
        "outputId": "87f6cac4-45f7-41c5-bcd0-d42ef4cd1586"
      },
      "source": [
        "l"
      ],
      "execution_count": 20,
      "outputs": [
        {
          "output_type": "execute_result",
          "data": {
            "text/plain": [
              "['Hey',\n",
              " 'LetsUpgraders',\n",
              " ',',\n",
              " 'WhatsUp',\n",
              " '???',\n",
              " 'Welcome to Python course',\n",
              " 'How',\n",
              " 'are',\n",
              " 'you',\n",
              " 'all??']"
            ]
          },
          "metadata": {
            "tags": []
          },
          "execution_count": 20
        }
      ]
    },
    {
      "cell_type": "code",
      "metadata": {
        "id": "f8FhM6bvsW38"
      },
      "source": [
        "l.insert(0,\"Well,\")"
      ],
      "execution_count": 21,
      "outputs": []
    },
    {
      "cell_type": "code",
      "metadata": {
        "colab": {
          "base_uri": "https://localhost:8080/"
        },
        "id": "wRDIzF5_se8D",
        "outputId": "1677235d-0dd3-425b-9d1d-850d98c97571"
      },
      "source": [
        "l"
      ],
      "execution_count": 22,
      "outputs": [
        {
          "output_type": "execute_result",
          "data": {
            "text/plain": [
              "['Well,',\n",
              " 'Hey',\n",
              " 'LetsUpgraders',\n",
              " ',',\n",
              " 'WhatsUp',\n",
              " '???',\n",
              " 'Welcome to Python course',\n",
              " 'How',\n",
              " 'are',\n",
              " 'you',\n",
              " 'all??']"
            ]
          },
          "metadata": {
            "tags": []
          },
          "execution_count": 22
        }
      ]
    },
    {
      "cell_type": "code",
      "metadata": {
        "colab": {
          "base_uri": "https://localhost:8080/",
          "height": 36
        },
        "id": "H8Wv8d-csfpf",
        "outputId": "9626dfaa-52b1-4041-e94f-88fbc5a0505a"
      },
      "source": [
        "l.pop()"
      ],
      "execution_count": 23,
      "outputs": [
        {
          "output_type": "execute_result",
          "data": {
            "application/vnd.google.colaboratory.intrinsic+json": {
              "type": "string"
            },
            "text/plain": [
              "'all??'"
            ]
          },
          "metadata": {
            "tags": []
          },
          "execution_count": 23
        }
      ]
    },
    {
      "cell_type": "code",
      "metadata": {
        "colab": {
          "base_uri": "https://localhost:8080/"
        },
        "id": "V5mZxa2lsisn",
        "outputId": "198ab393-737d-480b-9da3-120f5f29a86d"
      },
      "source": [
        "l"
      ],
      "execution_count": 24,
      "outputs": [
        {
          "output_type": "execute_result",
          "data": {
            "text/plain": [
              "['Well,',\n",
              " 'Hey',\n",
              " 'LetsUpgraders',\n",
              " ',',\n",
              " 'WhatsUp',\n",
              " '???',\n",
              " 'Welcome to Python course',\n",
              " 'How',\n",
              " 'are',\n",
              " 'you']"
            ]
          },
          "metadata": {
            "tags": []
          },
          "execution_count": 24
        }
      ]
    },
    {
      "cell_type": "code",
      "metadata": {
        "id": "-uXfe-Q8skWn"
      },
      "source": [
        "l.remove(\"Well,\")"
      ],
      "execution_count": 25,
      "outputs": []
    },
    {
      "cell_type": "code",
      "metadata": {
        "colab": {
          "base_uri": "https://localhost:8080/"
        },
        "id": "W_XsHq5LsmWK",
        "outputId": "bdd812b3-3f87-4feb-e13a-d8b33c6ae84e"
      },
      "source": [
        "l"
      ],
      "execution_count": 26,
      "outputs": [
        {
          "output_type": "execute_result",
          "data": {
            "text/plain": [
              "['Hey',\n",
              " 'LetsUpgraders',\n",
              " ',',\n",
              " 'WhatsUp',\n",
              " '???',\n",
              " 'Welcome to Python course',\n",
              " 'How',\n",
              " 'are',\n",
              " 'you']"
            ]
          },
          "metadata": {
            "tags": []
          },
          "execution_count": 26
        }
      ]
    },
    {
      "cell_type": "code",
      "metadata": {
        "colab": {
          "base_uri": "https://localhost:8080/"
        },
        "id": "s-NwSUgRsqUW",
        "outputId": "049a3251-5586-4714-f775-a27799235fcd"
      },
      "source": [
        "for i in l:\r\n",
        "  print(i,end=\" \")"
      ],
      "execution_count": 27,
      "outputs": [
        {
          "output_type": "stream",
          "text": [
            "Hey LetsUpgraders , WhatsUp ??? Welcome to Python course How are you "
          ],
          "name": "stdout"
        }
      ]
    },
    {
      "cell_type": "code",
      "metadata": {
        "id": "NjrY-kzRsvMd"
      },
      "source": [
        ""
      ],
      "execution_count": 27,
      "outputs": []
    },
    {
      "cell_type": "markdown",
      "metadata": {
        "id": "6qIqYOq4s0rh"
      },
      "source": [
        "# **Question-3**"
      ]
    },
    {
      "cell_type": "markdown",
      "metadata": {
        "id": "cNGp78-xs8UL"
      },
      "source": [
        "## *Experiment with at least 5 default functions of Dictionary*"
      ]
    },
    {
      "cell_type": "code",
      "metadata": {
        "id": "oklmevg-s2c8"
      },
      "source": [
        "d = {\"Course 1\":\"Python\",\"Course 2\":\"JavaScript\",\"Course 3\":\"Java\",\"Course 4\":\"Data Science\"}"
      ],
      "execution_count": 28,
      "outputs": []
    },
    {
      "cell_type": "code",
      "metadata": {
        "colab": {
          "base_uri": "https://localhost:8080/"
        },
        "id": "jHyrF6N5tSGp",
        "outputId": "8cada10d-156f-40e6-eb47-f306e91913c3"
      },
      "source": [
        "d.keys()"
      ],
      "execution_count": 29,
      "outputs": [
        {
          "output_type": "execute_result",
          "data": {
            "text/plain": [
              "dict_keys(['Course 1', 'Course 2', 'Course 3', 'Course 4'])"
            ]
          },
          "metadata": {
            "tags": []
          },
          "execution_count": 29
        }
      ]
    },
    {
      "cell_type": "code",
      "metadata": {
        "colab": {
          "base_uri": "https://localhost:8080/"
        },
        "id": "_5YahbjKtZZ2",
        "outputId": "8a97d12c-20dd-44c9-c5cd-7dd67d48671b"
      },
      "source": [
        "d.values()"
      ],
      "execution_count": 30,
      "outputs": [
        {
          "output_type": "execute_result",
          "data": {
            "text/plain": [
              "dict_values(['Python', 'JavaScript', 'Java', 'Data Science'])"
            ]
          },
          "metadata": {
            "tags": []
          },
          "execution_count": 30
        }
      ]
    },
    {
      "cell_type": "code",
      "metadata": {
        "id": "NeZPSrTVtabU"
      },
      "source": [
        "d.update({\"Course 4\":\"DS\"})"
      ],
      "execution_count": 31,
      "outputs": []
    },
    {
      "cell_type": "code",
      "metadata": {
        "colab": {
          "base_uri": "https://localhost:8080/"
        },
        "id": "Z11BNr5gtkEE",
        "outputId": "1a3e97d4-babb-4e3c-8272-c3528b92dafa"
      },
      "source": [
        "d"
      ],
      "execution_count": 32,
      "outputs": [
        {
          "output_type": "execute_result",
          "data": {
            "text/plain": [
              "{'Course 1': 'Python',\n",
              " 'Course 2': 'JavaScript',\n",
              " 'Course 3': 'Java',\n",
              " 'Course 4': 'DS'}"
            ]
          },
          "metadata": {
            "tags": []
          },
          "execution_count": 32
        }
      ]
    },
    {
      "cell_type": "code",
      "metadata": {
        "colab": {
          "base_uri": "https://localhost:8080/"
        },
        "id": "VUyR6YWYtk1i",
        "outputId": "38f4a068-e326-4d79-cb32-857de5ce3d82"
      },
      "source": [
        "d.items()"
      ],
      "execution_count": 33,
      "outputs": [
        {
          "output_type": "execute_result",
          "data": {
            "text/plain": [
              "dict_items([('Course 1', 'Python'), ('Course 2', 'JavaScript'), ('Course 3', 'Java'), ('Course 4', 'DS')])"
            ]
          },
          "metadata": {
            "tags": []
          },
          "execution_count": 33
        }
      ]
    },
    {
      "cell_type": "code",
      "metadata": {
        "colab": {
          "base_uri": "https://localhost:8080/",
          "height": 36
        },
        "id": "HKz4xUy6tn8V",
        "outputId": "0129c83e-35ec-4366-a2a2-1069428da2ec"
      },
      "source": [
        "d.get(\"Course 4\")"
      ],
      "execution_count": 34,
      "outputs": [
        {
          "output_type": "execute_result",
          "data": {
            "application/vnd.google.colaboratory.intrinsic+json": {
              "type": "string"
            },
            "text/plain": [
              "'DS'"
            ]
          },
          "metadata": {
            "tags": []
          },
          "execution_count": 34
        }
      ]
    },
    {
      "cell_type": "code",
      "metadata": {
        "colab": {
          "base_uri": "https://localhost:8080/"
        },
        "id": "P5qhw0wftrVc",
        "outputId": "ff9d5611-3ef2-436a-cfc0-15ff1db124a0"
      },
      "source": [
        "d.copy()"
      ],
      "execution_count": 35,
      "outputs": [
        {
          "output_type": "execute_result",
          "data": {
            "text/plain": [
              "{'Course 1': 'Python',\n",
              " 'Course 2': 'JavaScript',\n",
              " 'Course 3': 'Java',\n",
              " 'Course 4': 'DS'}"
            ]
          },
          "metadata": {
            "tags": []
          },
          "execution_count": 35
        }
      ]
    },
    {
      "cell_type": "code",
      "metadata": {
        "colab": {
          "base_uri": "https://localhost:8080/",
          "height": 36
        },
        "id": "lcJ4BkDEtt9l",
        "outputId": "5aa6ad39-0996-41ae-81b8-2a88eaf8db61"
      },
      "source": [
        "d.pop(\"Course 2\")"
      ],
      "execution_count": 36,
      "outputs": [
        {
          "output_type": "execute_result",
          "data": {
            "application/vnd.google.colaboratory.intrinsic+json": {
              "type": "string"
            },
            "text/plain": [
              "'JavaScript'"
            ]
          },
          "metadata": {
            "tags": []
          },
          "execution_count": 36
        }
      ]
    },
    {
      "cell_type": "code",
      "metadata": {
        "colab": {
          "base_uri": "https://localhost:8080/"
        },
        "id": "0ejrnZe4uI4E",
        "outputId": "0b7198b3-0199-4171-b9eb-394b23335108"
      },
      "source": [
        "d"
      ],
      "execution_count": 37,
      "outputs": [
        {
          "output_type": "execute_result",
          "data": {
            "text/plain": [
              "{'Course 1': 'Python', 'Course 3': 'Java', 'Course 4': 'DS'}"
            ]
          },
          "metadata": {
            "tags": []
          },
          "execution_count": 37
        }
      ]
    },
    {
      "cell_type": "code",
      "metadata": {
        "colab": {
          "base_uri": "https://localhost:8080/"
        },
        "id": "D6anQCBSuNs8",
        "outputId": "17d34b22-dcce-4add-8ab1-689177202eb1"
      },
      "source": [
        "d.popitem()"
      ],
      "execution_count": 38,
      "outputs": [
        {
          "output_type": "execute_result",
          "data": {
            "text/plain": [
              "('Course 4', 'DS')"
            ]
          },
          "metadata": {
            "tags": []
          },
          "execution_count": 38
        }
      ]
    },
    {
      "cell_type": "code",
      "metadata": {
        "colab": {
          "base_uri": "https://localhost:8080/"
        },
        "id": "nluDQMrTuP8I",
        "outputId": "1b8a578d-31a8-4dda-e7ad-a52f0372ccd9"
      },
      "source": [
        "d"
      ],
      "execution_count": 39,
      "outputs": [
        {
          "output_type": "execute_result",
          "data": {
            "text/plain": [
              "{'Course 1': 'Python', 'Course 3': 'Java'}"
            ]
          },
          "metadata": {
            "tags": []
          },
          "execution_count": 39
        }
      ]
    },
    {
      "cell_type": "code",
      "metadata": {
        "id": "axESFDCmuQss"
      },
      "source": [
        "key = (\"Course 5\",\"Course 6\",\"Course 7\")"
      ],
      "execution_count": 40,
      "outputs": []
    },
    {
      "cell_type": "code",
      "metadata": {
        "id": "m3eugnTduftE"
      },
      "source": [
        "value = (\"Django\",\"RPA\",\"Linux\")"
      ],
      "execution_count": 41,
      "outputs": []
    },
    {
      "cell_type": "code",
      "metadata": {
        "colab": {
          "base_uri": "https://localhost:8080/"
        },
        "id": "a3JI-S12uknE",
        "outputId": "1d16859b-5e7d-4d70-ae00-c68f932012ac"
      },
      "source": [
        "d1 = dict.fromkeys(key,value)\r\n",
        "d1"
      ],
      "execution_count": 42,
      "outputs": [
        {
          "output_type": "execute_result",
          "data": {
            "text/plain": [
              "{'Course 5': ('Django', 'RPA', 'Linux'),\n",
              " 'Course 6': ('Django', 'RPA', 'Linux'),\n",
              " 'Course 7': ('Django', 'RPA', 'Linux')}"
            ]
          },
          "metadata": {
            "tags": []
          },
          "execution_count": 42
        }
      ]
    },
    {
      "cell_type": "code",
      "metadata": {
        "colab": {
          "base_uri": "https://localhost:8080/"
        },
        "id": "44bLnzZFuqZL",
        "outputId": "5986464d-cf1c-4956-d8bc-48220de7ca72"
      },
      "source": [
        "d.setdefault(\"Course 2\",\"Data Science\")\r\n",
        "d"
      ],
      "execution_count": 43,
      "outputs": [
        {
          "output_type": "execute_result",
          "data": {
            "text/plain": [
              "{'Course 1': 'Python', 'Course 2': 'Data Science', 'Course 3': 'Java'}"
            ]
          },
          "metadata": {
            "tags": []
          },
          "execution_count": 43
        }
      ]
    },
    {
      "cell_type": "code",
      "metadata": {
        "id": "ZB-ApUyhvKgt"
      },
      "source": [
        ""
      ],
      "execution_count": 43,
      "outputs": []
    }
  ]
}