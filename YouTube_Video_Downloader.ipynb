{
  "nbformat": 4,
  "nbformat_minor": 0,
  "metadata": {
    "colab": {
      "name": "YouTube Video Downloader.ipynb",
      "provenance": [],
      "collapsed_sections": []
    },
    "kernelspec": {
      "name": "python3",
      "display_name": "Python 3"
    }
  },
  "cells": [
    {
      "cell_type": "markdown",
      "metadata": {
        "id": "ESAD0OtCLyBk"
      },
      "source": [
        "# **YOUTUBE VIDEO DOWNLOADER**"
      ]
    },
    {
      "cell_type": "markdown",
      "metadata": {
        "id": "4mdGQP-QMLVG"
      },
      "source": [
        "* THIS PROJECT **CANNOT BE DONE IN JUPYTER NOTEBOOK OR COLABORATORY**\r\n",
        "* We use **pytube** library to download youtube videos\r\n",
        "* It is completely safe and secure"
      ]
    },
    {
      "cell_type": "markdown",
      "metadata": {
        "id": "EPy7u0XOM4-H"
      },
      "source": [
        "### **STEPS TO DOWNLOAD :**\r\n",
        "* **STEP-1 :** Go to command prompt and run following command if you have python installed on your local machine. If not first install python <br>\r\n",
        "(If you already have anaconda installed , do it in anaconda prompt)\r\n",
        "<code>\r\n",
        "<pre>    pip install pytube    </pre>\r\n",
        "</code>\r\n",
        "* **STEP-2 :** Download or copy the below code and paste it in a file <br></br>\r\n",
        "* **STEP-3 :** Save the file with any name and with .py extension <br></br>\r\n",
        "* **STEP-4 :** Run the file , paste the youtube video link and click download"
      ]
    },
    {
      "cell_type": "markdown",
      "metadata": {
        "id": "hbgMbtMpPUq6"
      },
      "source": [
        "<pre><code>\r\n",
        "import pytube\r\n",
        "\r\n",
        "from pytube import YouTube\r\n",
        "\r\n",
        "from tkinter import *\r\n",
        "\r\n",
        "root = Tk()\r\n",
        "\r\n",
        "root.geometry(\"300x400\")\r\n",
        "\r\n",
        "root.title(\"You tube video downloader\")\r\n",
        "\r\n",
        "def youtube():\r\n",
        "    a = var.get()\r\n",
        "    ytvideo = YouTube(a).streams.filter(progressive=True,file_extension=\"mp4\").order_by('resolution').desc().first()\r\n",
        "    ytvideo.download(r\"C:\\Users\")    #<b>SPECIFY YOUR OWN PATH</b>\r\n",
        "\r\n",
        "l1 = Label(root,text= \"Youtube Video Link\",fg=\"Red\",font=(\"bold\",20))\r\n",
        "\r\n",
        "l1.place(x=30,y=20)\r\n",
        "\r\n",
        "var = StringVar()\r\n",
        "\r\n",
        "e1 = Entry(root,textvariable=var,width=40)\r\n",
        "\r\n",
        "e1.place(x=20,y=80)\r\n",
        "\r\n",
        "b1 = Button(root,text = \"Download\",command=youtube,bg=\"green\",width=20,fg=\"white\")\r\n",
        "\r\n",
        "b1.place(x=80,y=120)\r\n",
        "\r\n",
        "root.mainloop()\r\n",
        "</code>\r\n",
        "</pre>"
      ]
    },
    {
      "cell_type": "code",
      "metadata": {
        "id": "slJ6PJFdQ5cQ"
      },
      "source": [
        ""
      ],
      "execution_count": null,
      "outputs": []
    }
  ]
}