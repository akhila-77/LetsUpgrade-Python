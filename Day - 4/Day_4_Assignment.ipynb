{
  "nbformat": 4,
  "nbformat_minor": 0,
  "metadata": {
    "colab": {
      "name": "Day-4 Assignment.ipynb",
      "provenance": [],
      "collapsed_sections": []
    },
    "kernelspec": {
      "name": "python3",
      "display_name": "Python 3"
    }
  },
  "cells": [
    {
      "cell_type": "markdown",
      "metadata": {
        "id": "o60cTOh-6oWK"
      },
      "source": [
        "# **Question-1**"
      ]
    },
    {
      "cell_type": "markdown",
      "metadata": {
        "id": "CTdr0THj6yeg"
      },
      "source": [
        "## *Write down a program in Python for Opening a File and Writing \" I Love LetsUpgrade\" And close it, and read it back again, and then append some data to it and close it.*"
      ]
    },
    {
      "cell_type": "code",
      "metadata": {
        "colab": {
          "base_uri": "https://localhost:8080/"
        },
        "id": "DQOuZ2RI5prS",
        "outputId": "5d536957-020e-423c-a6aa-f5b2bb0d3a86"
      },
      "source": [
        "#Opening a file\r\n",
        "file1 = open('file1.txt','w+')\r\n",
        "\r\n",
        "#Writing data into the file\r\n",
        "file1.write(\"I Love LetsUpgrade \")\r\n",
        "\r\n",
        "file1.seek(0) # Important: return to the top of the file before reading, otherwise you'll just read an empty string\r\n",
        "\r\n",
        "#Reading the file\r\n",
        "print(file1.read())\r\n",
        "\r\n",
        "file1.close()"
      ],
      "execution_count": 27,
      "outputs": [
        {
          "output_type": "stream",
          "text": [
            "I Love LetsUpgrade \n"
          ],
          "name": "stdout"
        }
      ]
    },
    {
      "cell_type": "code",
      "metadata": {
        "colab": {
          "base_uri": "https://localhost:8080/"
        },
        "id": "CEfTv0gh8Qnj",
        "outputId": "4cffc14e-3b78-4ef9-9fd6-b178c790f40b"
      },
      "source": [
        "#Opening the file\r\n",
        "file1 = open('file1.txt','a+')\r\n",
        "\r\n",
        "#Appending some data to end of the file\r\n",
        "file1.write(\"I Love LetsUpgrade\")\r\n",
        "\r\n",
        "file1.seek(0)\r\n",
        "\r\n",
        "#Reading the file\r\n",
        "print(file1.read())\r\n",
        "\r\n",
        "file1.close()"
      ],
      "execution_count": 28,
      "outputs": [
        {
          "output_type": "stream",
          "text": [
            "I Love LetsUpgrade I Love LetsUpgrade\n"
          ],
          "name": "stdout"
        }
      ]
    },
    {
      "cell_type": "code",
      "metadata": {
        "id": "e8mvB9nw8lF6"
      },
      "source": [
        ""
      ],
      "execution_count": 28,
      "outputs": []
    },
    {
      "cell_type": "markdown",
      "metadata": {
        "id": "3vSy30n2_4-r"
      },
      "source": [
        "# **Question-2**"
      ]
    },
    {
      "cell_type": "markdown",
      "metadata": {
        "id": "qnj-8A6q_9Q-"
      },
      "source": [
        "## *Write a function which can return a Factorial of any numbers as INT, given in the argument.*"
      ]
    },
    {
      "cell_type": "code",
      "metadata": {
        "id": "tuzLhOmq_7Ik"
      },
      "source": [
        "def fact(n):\r\n",
        "  if n!=1:\r\n",
        "    return n*fact(n-1)\r\n",
        "  else:\r\n",
        "    return 1"
      ],
      "execution_count": 29,
      "outputs": []
    },
    {
      "cell_type": "code",
      "metadata": {
        "colab": {
          "base_uri": "https://localhost:8080/"
        },
        "id": "Q3TynW02AWSp",
        "outputId": "75531695-3ab6-4013-ea0b-d6894e7f3e87"
      },
      "source": [
        "n = int(input(\"Enter any number : \"))\r\n",
        "print(\"factorial of \"+str(n)+\" is \"+str(fact(n)))"
      ],
      "execution_count": 30,
      "outputs": [
        {
          "output_type": "stream",
          "text": [
            "Enter any number : 5\n",
            "factorial of 5 is 120\n"
          ],
          "name": "stdout"
        }
      ]
    },
    {
      "cell_type": "code",
      "metadata": {
        "id": "i3w00csSAXFf"
      },
      "source": [
        ""
      ],
      "execution_count": 30,
      "outputs": []
    }
  ]
}