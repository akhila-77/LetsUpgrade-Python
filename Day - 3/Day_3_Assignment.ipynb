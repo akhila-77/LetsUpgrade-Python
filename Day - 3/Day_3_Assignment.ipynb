{
  "nbformat": 4,
  "nbformat_minor": 0,
  "metadata": {
    "colab": {
      "name": "Day-3 Assignment.ipynb",
      "provenance": []
    },
    "kernelspec": {
      "name": "python3",
      "display_name": "Python 3"
    }
  },
  "cells": [
    {
      "cell_type": "markdown",
      "metadata": {
        "id": "Cjqnaysz7mrJ"
      },
      "source": [
        "# **Question-1**"
      ]
    },
    {
      "cell_type": "markdown",
      "metadata": {
        "id": "drRMdEvV7q1o"
      },
      "source": [
        "## *Use IF ELSE and ELIF to write a program in python for your Report Cards :*"
      ]
    },
    {
      "cell_type": "code",
      "metadata": {
        "id": "PiVG5epP6M2O"
      },
      "source": [
        "m = 88\r\n",
        "if m > 90 and m <= 100:\r\n",
        "  grade = \"A+\"\r\n",
        "elif m > 80 and m <= 90:\r\n",
        "  grade = \"A\"\r\n",
        "elif m > 70 and m <= 80:\r\n",
        "  garde = \"B+\"\r\n",
        "elif m > 60 and m <= 50:\r\n",
        "  grade = \"B\"\r\n",
        "elif m > 40 and m <= 50:\r\n",
        "  grade = \"C\"\r\n",
        "elif m > 30 and m <= 40:\r\n",
        "  grade = \"D\"\r\n",
        "else:\r\n",
        "  grade = \"Fail\""
      ],
      "execution_count": 1,
      "outputs": []
    },
    {
      "cell_type": "code",
      "metadata": {
        "colab": {
          "base_uri": "https://localhost:8080/"
        },
        "id": "Y8ERaZdq9MnK",
        "outputId": "ee5192cc-179a-4317-bb61-5557761413f3"
      },
      "source": [
        "print(\"Grade = \"+str(grade)+\" For marks = \"+str(m))"
      ],
      "execution_count": 2,
      "outputs": [
        {
          "output_type": "stream",
          "text": [
            "Grade = A For marks = 88\n"
          ],
          "name": "stdout"
        }
      ]
    },
    {
      "cell_type": "markdown",
      "metadata": {
        "id": "jzFu0nNy7z_4"
      },
      "source": [
        "# **Question-2**"
      ]
    },
    {
      "cell_type": "markdown",
      "metadata": {
        "id": "OzJbWu7R73Fy"
      },
      "source": [
        "## *Use For Loop to Print Prime Numbers in between 1 to 1000 :*"
      ]
    },
    {
      "cell_type": "code",
      "metadata": {
        "colab": {
          "base_uri": "https://localhost:8080/"
        },
        "id": "RDx9_S4l-4NV",
        "outputId": "aacc1211-d17d-43a5-b707-d28e10468eaf"
      },
      "source": [
        "3%2"
      ],
      "execution_count": 3,
      "outputs": [
        {
          "output_type": "execute_result",
          "data": {
            "text/plain": [
              "1"
            ]
          },
          "metadata": {
            "tags": []
          },
          "execution_count": 3
        }
      ]
    },
    {
      "cell_type": "code",
      "metadata": {
        "colab": {
          "base_uri": "https://localhost:8080/"
        },
        "id": "pnhrWScK72bv",
        "outputId": "2527d409-eed5-4db7-9c00-cd14f3522ab5"
      },
      "source": [
        "count = numprimes = 0\r\n",
        "for i in range(1,1001):\r\n",
        "  for j in range(1,1001):\r\n",
        "    if i%j==0:\r\n",
        "      count += 1\r\n",
        "  if count==2:\r\n",
        "    numprimes+=1\r\n",
        "    print(i, end=\" \")\r\n",
        "  count=0\r\n",
        "print()\r\n",
        "print(\"There are \"+str(numprimes)+\" primes below 1000\")"
      ],
      "execution_count": 4,
      "outputs": [
        {
          "output_type": "stream",
          "text": [
            "2 3 5 7 11 13 17 19 23 29 31 37 41 43 47 53 59 61 67 71 73 79 83 89 97 101 103 107 109 113 127 131 137 139 149 151 157 163 167 173 179 181 191 193 197 199 211 223 227 229 233 239 241 251 257 263 269 271 277 281 283 293 307 311 313 317 331 337 347 349 353 359 367 373 379 383 389 397 401 409 419 421 431 433 439 443 449 457 461 463 467 479 487 491 499 503 509 521 523 541 547 557 563 569 571 577 587 593 599 601 607 613 617 619 631 641 643 647 653 659 661 673 677 683 691 701 709 719 727 733 739 743 751 757 761 769 773 787 797 809 811 821 823 827 829 839 853 857 859 863 877 881 883 887 907 911 919 929 937 941 947 953 967 971 977 983 991 997 \n",
            "There are 168 primes below 1000\n"
          ],
          "name": "stdout"
        }
      ]
    },
    {
      "cell_type": "markdown",
      "metadata": {
        "id": "fiWie1sF78k7"
      },
      "source": [
        "# **Question-3**"
      ]
    },
    {
      "cell_type": "markdown",
      "metadata": {
        "id": "a22SDCcj7-y-"
      },
      "source": [
        "## *Write a program for printing the tables from 1,10 using Nested For Loop :*"
      ]
    },
    {
      "cell_type": "code",
      "metadata": {
        "colab": {
          "base_uri": "https://localhost:8080/"
        },
        "id": "8clX03297-OP",
        "outputId": "89666839-b76e-459a-8285-b7ab6f6881c5"
      },
      "source": [
        "for i in range(1,11):\r\n",
        "  print(\"Table \"+str(i))\r\n",
        "  for j in range(1,11):\r\n",
        "    print(str(i)+\" x \"+str(j)+ \" = \"+str(i*j))\r\n",
        "  print()"
      ],
      "execution_count": 5,
      "outputs": [
        {
          "output_type": "stream",
          "text": [
            "Table 1\n",
            "1 x 1 = 1\n",
            "1 x 2 = 2\n",
            "1 x 3 = 3\n",
            "1 x 4 = 4\n",
            "1 x 5 = 5\n",
            "1 x 6 = 6\n",
            "1 x 7 = 7\n",
            "1 x 8 = 8\n",
            "1 x 9 = 9\n",
            "1 x 10 = 10\n",
            "\n",
            "Table 2\n",
            "2 x 1 = 2\n",
            "2 x 2 = 4\n",
            "2 x 3 = 6\n",
            "2 x 4 = 8\n",
            "2 x 5 = 10\n",
            "2 x 6 = 12\n",
            "2 x 7 = 14\n",
            "2 x 8 = 16\n",
            "2 x 9 = 18\n",
            "2 x 10 = 20\n",
            "\n",
            "Table 3\n",
            "3 x 1 = 3\n",
            "3 x 2 = 6\n",
            "3 x 3 = 9\n",
            "3 x 4 = 12\n",
            "3 x 5 = 15\n",
            "3 x 6 = 18\n",
            "3 x 7 = 21\n",
            "3 x 8 = 24\n",
            "3 x 9 = 27\n",
            "3 x 10 = 30\n",
            "\n",
            "Table 4\n",
            "4 x 1 = 4\n",
            "4 x 2 = 8\n",
            "4 x 3 = 12\n",
            "4 x 4 = 16\n",
            "4 x 5 = 20\n",
            "4 x 6 = 24\n",
            "4 x 7 = 28\n",
            "4 x 8 = 32\n",
            "4 x 9 = 36\n",
            "4 x 10 = 40\n",
            "\n",
            "Table 5\n",
            "5 x 1 = 5\n",
            "5 x 2 = 10\n",
            "5 x 3 = 15\n",
            "5 x 4 = 20\n",
            "5 x 5 = 25\n",
            "5 x 6 = 30\n",
            "5 x 7 = 35\n",
            "5 x 8 = 40\n",
            "5 x 9 = 45\n",
            "5 x 10 = 50\n",
            "\n",
            "Table 6\n",
            "6 x 1 = 6\n",
            "6 x 2 = 12\n",
            "6 x 3 = 18\n",
            "6 x 4 = 24\n",
            "6 x 5 = 30\n",
            "6 x 6 = 36\n",
            "6 x 7 = 42\n",
            "6 x 8 = 48\n",
            "6 x 9 = 54\n",
            "6 x 10 = 60\n",
            "\n",
            "Table 7\n",
            "7 x 1 = 7\n",
            "7 x 2 = 14\n",
            "7 x 3 = 21\n",
            "7 x 4 = 28\n",
            "7 x 5 = 35\n",
            "7 x 6 = 42\n",
            "7 x 7 = 49\n",
            "7 x 8 = 56\n",
            "7 x 9 = 63\n",
            "7 x 10 = 70\n",
            "\n",
            "Table 8\n",
            "8 x 1 = 8\n",
            "8 x 2 = 16\n",
            "8 x 3 = 24\n",
            "8 x 4 = 32\n",
            "8 x 5 = 40\n",
            "8 x 6 = 48\n",
            "8 x 7 = 56\n",
            "8 x 8 = 64\n",
            "8 x 9 = 72\n",
            "8 x 10 = 80\n",
            "\n",
            "Table 9\n",
            "9 x 1 = 9\n",
            "9 x 2 = 18\n",
            "9 x 3 = 27\n",
            "9 x 4 = 36\n",
            "9 x 5 = 45\n",
            "9 x 6 = 54\n",
            "9 x 7 = 63\n",
            "9 x 8 = 72\n",
            "9 x 9 = 81\n",
            "9 x 10 = 90\n",
            "\n",
            "Table 10\n",
            "10 x 1 = 10\n",
            "10 x 2 = 20\n",
            "10 x 3 = 30\n",
            "10 x 4 = 40\n",
            "10 x 5 = 50\n",
            "10 x 6 = 60\n",
            "10 x 7 = 70\n",
            "10 x 8 = 80\n",
            "10 x 9 = 90\n",
            "10 x 10 = 100\n",
            "\n"
          ],
          "name": "stdout"
        }
      ]
    },
    {
      "cell_type": "markdown",
      "metadata": {
        "id": "-R9mgQDL8Hu_"
      },
      "source": [
        "# **Question-4**"
      ]
    },
    {
      "cell_type": "markdown",
      "metadata": {
        "id": "w7WMIDQR8KJO"
      },
      "source": [
        "## *Write a program to Print X Prime Numbers using While Loop starting from 0, and take the INput of X from the user :*"
      ]
    },
    {
      "cell_type": "code",
      "metadata": {
        "colab": {
          "base_uri": "https://localhost:8080/"
        },
        "id": "Oy-mJ87t8Jgw",
        "outputId": "51098182-e536-4dad-9bc4-7b656ad1d2ea"
      },
      "source": [
        "X = int(input(\"Enter any number : \"))\r\n",
        "count = numprimes = 0\r\n",
        "i = j = 1\r\n",
        "while(i!=X*1000):\r\n",
        "  while(j!=X*1000):\r\n",
        "    if i%j == 0:\r\n",
        "      count += 1\r\n",
        "    j += 1\r\n",
        "  if count==2:\r\n",
        "    print(i, end=\" \")\r\n",
        "    numprimes += 1\r\n",
        "  if numprimes == X:\r\n",
        "    break\r\n",
        "  i += 1\r\n",
        "  j = 1\r\n",
        "  count = 0"
      ],
      "execution_count": 6,
      "outputs": [
        {
          "output_type": "stream",
          "text": [
            "Enter any number : 28\n",
            "2 3 5 7 11 13 17 19 23 29 31 37 41 43 47 53 59 61 67 71 73 79 83 89 97 101 103 107 "
          ],
          "name": "stdout"
        }
      ]
    },
    {
      "cell_type": "code",
      "metadata": {
        "id": "h8Ez0Z6kB7Mm"
      },
      "source": [
        ""
      ],
      "execution_count": 6,
      "outputs": []
    }
  ]
}